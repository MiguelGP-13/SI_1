{
 "cells": [
  {
   "cell_type": "markdown",
   "metadata": {},
   "source": [
    "## Sacar información de la película"
   ]
  },
  {
   "cell_type": "code",
   "execution_count": 1,
   "metadata": {},
   "outputs": [],
   "source": [
    "import urllib.request\n",
    "import re"
   ]
  },
  {
   "cell_type": "code",
   "execution_count": 2,
   "metadata": {},
   "outputs": [
    {
     "name": "stdout",
     "output_type": "stream",
     "text": [
      "200\n"
     ]
    }
   ],
   "source": [
    "CLASS_DURACION = 'ipc-inline-list ipc-inline-list--show-dividers sc-ec65ba05-2 joVhBE baseAlt'  # Tiene dentro 3 li con año, clasificación y duración\n",
    "CLASS_RATING = 'sc-d541859f-1 imUuxf'  # Dentro de un span\n",
    "CLASS_NUMEROVOTOS = 'sc-d541859f-3 dwhNqC' # Dentro de un div\n",
    "CLASS_SINOPSIS = 'sc-42125d72-1 igbBrx'\n",
    "# Coger los 3 primeros (direccion, guionistas, elenco)\n",
    "CLASS_DATOS = 'ipc-metadata-list-item__content-container'  # Dentro de un div\n",
    "\n",
    "\n",
    "\n",
    "# Definir la URL\n",
    "url = 'https://www.imdb.com/es/title/tt27722575/?ref_=nv_sr_srsg_0_tt_8_nm_0_in_0_q_200'\n",
    "\n",
    "# Definir los headers\n",
    "headers = {\n",
    "    'User-Agent': 'Mozilla/5.0 (Windows NT 10.0; Win64; x64) AppleWebKit/537.36 (KHTML, like Gecko) Chrome/91.0.4472.124 Safari/537.36'\n",
    "}\n",
    "\n",
    "# Crear una petición con los headers\n",
    "req = urllib.request.Request(url, headers=headers)\n",
    "\n",
    "# Descargar el HTML\n",
    "with urllib.request.urlopen(req) as response:\n",
    "    html = response.read().decode('utf-8')\n",
    "\n",
    "# Imprimir el HTML descargado\n",
    "print(response.status)"
   ]
  },
  {
   "cell_type": "code",
   "execution_count": 3,
   "metadata": {},
   "outputs": [
    {
     "name": "stdout",
     "output_type": "stream",
     "text": [
      "2024 PG 1h 38min 5.7 911 Un heroico perro poodle que lucha por mantener el respeto de su manada de hombres lobo. Cuando un deseo caprichoso lo transforma en hombre lobo y despoja a un hada traviesa de la tierra.\n"
     ]
    }
   ],
   "source": [
    "# Sacamos (Año), (Calificación), (Duración)\n",
    "extractor = rf'.*\\<ul class=\"{CLASS_DURACION}\"[^\\>]*?\\>\\<li[^\\>]*?\\>\\<a[^\\>]*?\\>([\\d]+?)\\<.+?\\<li[^\\>]*?\\>\\<a[^\\>]*?\\>([^<]+?)\\<.+?\\<li[^\\>]*?\\>([^\\<]+?)\\<.+' \n",
    "# Sacamos (puntuación)\n",
    "extractor += rf'\\<span class=\"{CLASS_RATING}\"\\>([\\d\\.]+)\\<.+'\n",
    "# Sacamos (nº de votos)\n",
    "extractor += rf'\\<div class=\"{CLASS_NUMEROVOTOS}\"\\>([\\d]+?)\\<.+'\n",
    "# Sacamos (sinopsis)\n",
    "extractor += rf'\\<span [^\\>]*?class=\"{CLASS_SINOPSIS}\"\\>([^<]+?)\\<'\n",
    "resultados =  re.search(extractor, html, re.DOTALL)\n",
    "anio, calificacion, duracion, puntuacion, num_votos, sinopsis = resultados.groups()\n",
    "print(anio, calificacion, duracion, puntuacion, num_votos, sinopsis)"
   ]
  },
  {
   "cell_type": "code",
   "execution_count": 4,
   "metadata": {},
   "outputs": [],
   "source": [
    "# Sacamos (direccion), (guionistas), (elenco) con un findall\n",
    "informacion = rf'\\<(?:span|a).*?aria-label=\"Ver elenco y equipo completos\".+?\\>([^\\>]+?)\\<\\/(?:span|a)\\>\\<div class=\"{CLASS_DATOS}\"\\>\\<ul.+?\\>(.+?)\\<\\/ul\\>'\n",
    "# Limpiamos los resultados sacando los nombres y quitando las etiquetas HTML\n",
    "obtener_nombres = re.compile(r'([^\\>]+)\\<\\/a\\>')"
   ]
  },
  {
   "cell_type": "code",
   "execution_count": 5,
   "metadata": {},
   "outputs": [
    {
     "name": "stdout",
     "output_type": "stream",
     "text": [
      "Resultado 0: ('Dirección', ['Alexs Stadermann'])\n",
      "Resultado 1: ('Guionistas', ['Fin Edquist', 'Jayne Lyons'])\n",
      "Resultado 2: ('Elenco', ['Ilai Swindells', 'Elizabeth Nabben', 'Jennifer Saunders'])\n"
     ]
    }
   ],
   "source": [
    "# Encontrar todas las coincidencias\n",
    "coincidencias = re.finditer(informacion, html)\n",
    "\n",
    "# Crear una lista para almacenar los primeros 4 resultados\n",
    "resultados = []\n",
    "\n",
    "# Iterar sobre las coincidencias y agregar a la lista hasta encontrar 4\n",
    "for i, match in enumerate(coincidencias):\n",
    "    if i >= 3:\n",
    "        break\n",
    "    resultados.append((match.group(1), obtener_nombres.findall(match.group(2))))\n",
    "\n",
    "for i, match in enumerate(resultados):\n",
    "    print(f\"Resultado {i}: {match}\")"
   ]
  }
 ],
 "metadata": {
  "kernelspec": {
   "display_name": "Python 3",
   "language": "python",
   "name": "python3"
  },
  "language_info": {
   "codemirror_mode": {
    "name": "ipython",
    "version": 3
   },
   "file_extension": ".py",
   "mimetype": "text/x-python",
   "name": "python",
   "nbconvert_exporter": "python",
   "pygments_lexer": "ipython3",
   "version": "3.11.1"
  }
 },
 "nbformat": 4,
 "nbformat_minor": 2
}
