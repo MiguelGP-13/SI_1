{
 "cells": [
  {
   "cell_type": "markdown",
   "metadata": {},
   "source": [
    "## Sacar información de la película"
   ]
  },
  {
   "cell_type": "code",
   "execution_count": 1,
   "metadata": {},
   "outputs": [],
   "source": [
    "import urllib.request\n",
    "import re\n",
    "\n",
    "class_datos = 'ipc-metadata-list-item__content-container' # Dentro de un div\n",
    "class_rating = 'sc-d541859f-1 imUuxf' # Dentro de un span\n",
    "# Coger los 3 primeros (direccion, guionistas, elenco)\n",
    "class_sinopsis = 'sc-42125d72-1 igbBrx'\n",
    "class_numeroVotos = 'sc-d541859f-3 dwhNqC'\n",
    "class_duracion = 'ipc-inline-list ipc-inline-list--show-dividers sc-ec65ba05-2 joVhBE baseAlt' # Tiene dentro 3 li con año, clasificación y duración"
   ]
  },
  {
   "cell_type": "code",
   "execution_count": 2,
   "metadata": {},
   "outputs": [
    {
     "name": "stdout",
     "output_type": "stream",
     "text": [
      "200\n"
     ]
    }
   ],
   "source": [
    "CLASS_DURACION = 'ipc-inline-list ipc-inline-list--show-dividers sc-ec65ba05-2 joVhBE baseAlt'  # Tiene dentro 3 li con año, clasificación y duración\n",
    "CLASS_RATING = 'sc-d541859f-1 imUuxf'  # Dentro de un span\n",
    "CLASS_NUMEROVOTOS = 'sc-d541859f-3 dwhNqC' # Dentro de un div\n",
    "CLASS_SINOPSIS = 'sc-42125d72-1 igbBrx'\n",
    "CLASS_DATOS = 'ipc-metadata-list-item__content-container'  # Dentro de un div\n",
    "# Coger los 3 primeros (direccion, guionistas, elenco)\n",
    "\n",
    "\n",
    "# Definir la URL\n",
    "url = 'https://www.imdb.com/es/title/tt27722575/?ref_=nv_sr_srsg_0_tt_8_nm_0_in_0_q_200'\n",
    "\n",
    "# Definir los headers\n",
    "headers = {\n",
    "    'User-Agent': 'Mozilla/5.0 (Windows NT 10.0; Win64; x64) AppleWebKit/537.36 (KHTML, like Gecko) Chrome/91.0.4472.124 Safari/537.36'\n",
    "}\n",
    "\n",
    "# Crear una petición con los headers\n",
    "req = urllib.request.Request(url, headers=headers)\n",
    "\n",
    "# Descargar el HTML\n",
    "with urllib.request.urlopen(req) as response:\n",
    "    html = response.read().decode('utf-8')\n",
    "\n",
    "# Imprimir el HTML descargado\n",
    "print(response.status)\n",
    "\n",
    "\n"
   ]
  },
  {
   "cell_type": "code",
   "execution_count": 11,
   "metadata": {},
   "outputs": [],
   "source": [
    "# Sacamos (Año), (Calificación), (Duración)\n",
    "extractor = rf'.*?\\<ul class=\"{CLASS_DURACION}\".+?\\>\\<li.+?\\>\\<a.+?\\>([\\d]+?)\\<.+?\\<li.+?\\>\\<a.+?\\>([^<]+?)\\<.+?\\<li.+?\\>([^\\<]+?)\\<.+?' \n",
    "# Sacamos (puntuación)\n",
    "extractor += rf'\\<span class=\"{CLASS_RATING}\"\\>([\\d\\.]+)\\<.+?'\n",
    "# Sacamos (nº de votos)\n",
    "extractor += rf'\\<div class=\"{CLASS_NUMEROVOTOS}\"\\>([\\d]+?)\\<.+?'\n",
    "# # Sacamos (sinopsis)\n",
    "extractor += rf'\\<span .+?class=\"{CLASS_SINOPSIS}\"\\>([^<]+?)\\<'\n",
    "s =  re.search(extractor, html)\n",
    "# _, anio, calificacion, duracion, puntuacion, num_votos, sinopsis = re.search(extractor, html)\n",
    "# print(anio, calificacion, duracion, puntuacion, num_votos, sinopsis)"
   ]
  },
  {
   "cell_type": "code",
   "execution_count": null,
   "metadata": {},
   "outputs": [],
   "source": [
    "# Sacamos (direccion), (guionistas), (elenco) con un findall\n",
    "informacion = rf'([^\\>]+?)\\<\\/span\\>\\<div class=\"{CLASS_DATOS}\"\\>\\<ul.+?\\>\\<li.+?\\>\\<a.+?\\>([^<]+?)\\<.+?'\n",
    "\n",
    "datos = re.findall(informacion, html)"
   ]
  },
  {
   "cell_type": "code",
   "execution_count": null,
   "metadata": {},
   "outputs": [
    {
     "data": {
      "text/plain": [
       "[]"
      ]
     },
     "execution_count": 14,
     "metadata": {},
     "output_type": "execute_result"
    }
   ],
   "source": [
    "datos"
   ]
  },
  {
   "cell_type": "code",
   "execution_count": 12,
   "metadata": {},
   "outputs": [
    {
     "name": "stdout",
     "output_type": "stream",
     "text": [
      "</div></div></div></section><div class=\"ipc-page-content-container ipc-page-content-container--center sc-b00d08ca-1 eRcLwl\" role=\"presentation\"></div><script>if(typeof uet === 'function'){ uet('bb', 'StaticFeature_Hero', {wb: 1}); }</script><div class=\"ipc-page-content-container ipc-page-content-container--center\" role=\"presentation\"><section class=\"ipc-page-background ipc-page-background--baseAlt sc-9a2a0028-0 fKJxGq\"><div class=\"sc-9a2a0028-1 laPjjY\"></div><section data-testid=\"hero-parent\" class=\"ipc-page-section ipc-page-section--baseAlt ipc-page-section--tp-none ipc-page-section--bp-xs sc-9a2a0028-2 byEUZE\"><div class=\"sc-57197f8e-0 jHYogi\"><div class=\"sc-57197f8e-1 dSNwQI\"><div role=\"presentation\" data-testid=\"hero-subnav-bar-left-block\" class=\"sc-57197f8e-2 lcNmMu\"></div><div role=\"presentation\" data-testid=\"hero-subnav-bar-right-block\" class=\"sc-57197f8e-2 lcNmMu\"><ul class=\"ipc-inline-list ipc-inline-list--show-dividers sc-1fdae676-0 ikgVKP baseAlt\" role=\"presentation\" data-testid=\"hero-subnav-bar-topic-links\"><li role=\"presentation\" class=\"ipc-inline-list__item\"><a class=\"ipc-link ipc-link--baseAlt ipc-link--inherit-color\" tabindex=\"0\" aria-disabled=\"false\" href=\"/title/tt27722575/fullcredits/?ref_=tt_ov_ql_1\">Elenco y equipo</a></li><li role=\"presentation\" class=\"ipc-inline-list__item\"><a class=\"ipc-link ipc-link--baseAlt ipc-link--inherit-color\" tabindex=\"0\" aria-disabled=\"false\" href=\"/title/tt27722575/reviews/?ref_=tt_ov_ql_2\">Opiniones de usuarios</a></li><li role=\"presentation\" class=\"ipc-inline-list__item\"><a class=\"ipc-link ipc-link--baseAlt ipc-link--inherit-color\" tabindex=\"0\" aria-disabled=\"false\" href=\"/title/tt27722575/faq/?ref_=tt_ov_ql_3\">Preguntas Frecuentes</a></li></ul><div class=\"sc-1fdae676-1 kVSIEg\"><a class=\"ipc-link ipc-link--baseAlt ipc-link--inherit-color\" tabindex=\"0\" aria-disabled=\"false\" data-testid=\"hero-subnav-bar-imdb-pro-link\" href=\"https://pro.imdb.com/title/tt27722575/?rf=cons_tt_ov_hdr&amp;ref_=cons_tt_ov_hdr\">IMDbPro</a></div><button data-testid=\"hero-subnav-bar-all-topics-button\" class=\"ipc-responsive-button ipc-btn--theme-baseAlt ipc-responsive-button--transition-xs ipc-btn--on-textPrimary ipc-responsive-button--single-padding ipc-responsive-button--button-radius\" tabindex=\"0\" aria-label=\"Ver todos los temas\" aria-disabled=\"false\"><svg width=\"24\" height=\"24\" xmlns=\"http://www.w3.org/2000/svg\" class=\"ipc-icon ipc-icon--categories ipc-responsive-button__icon\" viewBox=\"0 0 24 24\" fill=\"currentColor\" role=\"presentation\"><path d=\"M12.036 17.153a4.579 4.579 0 0 1 5.117-5.117c1.97.239 3.604 1.802 3.935 3.758a4.576 4.576 0 0 1-1.042 3.76l.197.19h.556L22.5 21.5a.743.743 0 0 1 0 1.049.743.743 0 0 1-1.049 0l-1.708-1.75v-.556l-.19-.197a4.576 4.576 0 0 1-3.759 1.042c-1.956-.331-3.519-1.964-3.758-3.935zm4.54-3.745a3.163 3.163 0 0 0-3.168 3.168 3.163 3.163 0 0 0 3.168 3.167 3.163 3.163 0 0 0 3.167-3.167 3.163 3.163 0 0 0-3.167-3.168zM8.298 11.972c1.47 0 2.73 1.26 2.73 2.73v3.464c0 1.574-1.26 2.834-2.73 2.834H4.834A2.822 2.822 0 0 1 2 18.166v-3.464c0-1.47 1.26-2.73 2.73-2.73h3.568zm0 1.47H4.834c-.735 0-1.26.525-1.26 1.26v3.464c0 .735.525 1.26 1.26 1.26h3.464c.735 0 1.26-.525 1.26-1.26v-3.464c0-.63-.525-1.26-1.26-1.26zM8.298 2c1.47 0 2.73 1.26 2.73 2.73v3.463c0 1.575-1.26 2.73-2.73 2.73H4.834C3.26 10.923 2 9.768 2 8.193V4.73C2 3.26 3.26 2 4.73 2h3.568zm0 1.47H4.834c-.735 0-1.26.524-1.26 1.26v3.463c0 .735.525 1.26 1.26 1.26h3.464c.735 0 1.26-.525 1.26-1.26V4.73c0-.735-.525-1.26-1.26-1.26zM18.27 2C19.74 2 21 3.26 21 4.73v3.463c0 1.575-1.155 2.73-2.73 2.73h-3.463c-1.47 0-2.73-1.26-2.73-2.73V4.73c0-1.47 1.26-2.729 2.73-2.729h3.464zm0 1.47h-3.463c-.735 0-1.26.524-1.26 1.26v3.463c0 .735.525 1.26 1.26 1.26h3.464c.735 0 1.26-.525 1.26-1.26V4.73c0-.735-.525-1.26-1.26-1.26z\"></path></svg><span class=\"ipc-responsive-button__text\">Todos los temas</span></button><div data-testid=\"hero-subnav-bar-share-button\" class=\"sc-57197f8e-3 cLDGAT\"><button data-testid=\"share-button\" class=\"ipc-icon-button sharemenu-iconbutton sc-ce663d66-0 ihnOFY ipc-icon-button--baseAlt ipc-icon-button--onBase\" title=\"Compartir en redes sociales\" tabindex=\"0\" aria-label=\"Compartir en redes sociales\" aria-disabled=\"false\"><svg xmlns=\"http://www.w3.org/2000/svg\" width=\"24\" height=\"24\" class=\"ipc-icon ipc-icon--share\" viewBox=\"0 0 24 24\" fill=\"currentColor\" role=\"presentation\"><path fill=\"none\" d=\"M0 0h24v24H0V0z\"></path><path d=\"M18 16.08c-.76 0-1.44.3-1.96.77L8.91 12.7c.05-.23.09-.46.09-.7s-.04-.47-.09-.7l7.05-4.11c.54.5 1.25.81 2.04.81 1.66 0 3-1.34 3-3s-1.34-3-3-3-3 1.34-3 3c0 .24.04.47.09.7L8.04 9.81C7.5 9.31 6.79 9 6 9c-1.66 0-3 1.34-3 3s1.34 3 3 3c.79 0 1.5-.31 2.04-.81l7.12 4.16c-.05.21-.08.43-.08.65 0 1.61 1.31 2.92 2.92 2.92s2.92-1.31 2.92-2.92-1.31-2.92-2.92-2.92z\"></path></svg></button></div></div></div></div><div class=\"sc-9a2a0028-3 bwWOiy\"><div class=\"sc-70a366cc-0 bxYZmb\"><h1 textLength=\"9\" data-testid=\"hero__pageTitle\" class=\"sc-ec65ba05-0 dUhRgT\"><span class=\"hero__primary-text\" data-testid=\"hero__primary-text\">200% Wolf</span></h1><ul class=\"ipc-inline-list ipc-inline-list--show-dividers sc-ec65ba05-2 joVhBE baseAlt\" role=\"presentation\"><li role=\"presentation\" class=\"ipc-inline-list__item\"><a class=\"ipc-link ipc-link--baseAlt ipc-link--inherit-color\" tabindex=\"0\" aria-disabled=\"false\" href=\"/title/tt27722575/releaseinfo/?ref_=tt_ov_rdat\">2024</a></li><li role=\"presentation\" class=\"ipc-inline-list__item\"><a class=\"ipc-link ipc-link--baseAlt ipc-link--inherit-color\" tabindex=\"0\" aria-disabled=\"false\" href=\"/title/tt27722575/parentalguide/?ref_=tt_ov_pg#certificates\">PG</a></li><li role=\"presentation\" class=\"ipc-inline-list__item\">1h 38min</li></ul></div><div class=\"sc-3a4309f8-0 jJkxPn sc-70a366cc-1 kUfGfN\"><div class=\"sc-3a4309f8-1 dOjKRs\"><div data-testid=\"hero-rating-bar__aggregate-rating\" class=\"sc-acdbf0f3-0 iaJqqu rating-bar__base-button\"><div class=\"sc-acdbf0f3-1 ioCFan\">CALIFICACIÓN DE IMDb</div><a class=\"ipc-btn ipc-btn--single-padding ipc-btn--center-align-content ipc-btn--default-height ipc-btn--core-baseAlt ipc-btn--theme-baseAlt ipc-btn--button-radius ipc-btn--on-textPrimary ipc-text-button sc-acdbf0f3-2 brjkFP\" tabindex=\"0\" aria-label=\"Ver las calificaciones de los usuarios\" aria-disabled=\"false\" href=\"/title/tt27722575/ratings/?ref_=tt_ov_rat\"><span class=\"ipc-btn__text\"><div class=\"sc-acdbf0f3-3 fRlpFA\"><div class=\"sc-acdbf0f3-4 hJNcKz\"><svg xmlns=\"http://www.w3.org/2000/svg\" width=\"24\" height=\"24\" class=\"ipc-icon ipc-icon--star sc-d541859f-4 LNYqq\" viewBox=\"0 0 24 24\" fill=\"currentColor\" role=\"presentation\"><path d=\"M12 17.27l4.15 2.51c.76.46 1.69-.22 1.49-1.08l-1.1-4.72 3.67-3.18c.67-.58.31-1.68-.57-1.75l-4.83-.41-1.89-4.46c-.34-.81-1.5-.81-1.84 0L9.19 8.63l-4.83.41c-.88.07-1.24 1.17-.57 1.75l3.67 3.18-1.1 4.72c-.2.86.73 1.54 1.49 1.08l4.15-2.5z\"></path></svg></div><div class=\"sc-d541859f-0 hNIoIx\"><div data-testid=\"hero-rating-bar__aggregate-rating__score\" class=\"sc-d541859f-2 kxphVf\"><span class=\"sc-d541859f-1 imUuxf\">5.5</span><span>/<!-- -->10</span></div><div class=\"sc-d541859f-5 gNmMnY\"></div><div class=\"sc-d541859f-3 dwhNqC\">781</div></div></div></span></a></div><div data-testid=\"hero-rating-bar__user-rating\" class=\"sc-acdbf0f3-0 iaJqqu rating-bar__base-button\"><div class=\"sc-acdbf0f3-1 ioCFan\">TU CALIFICACIÓN</div><button class=\"ipc-btn ipc-btn--single-padding ipc-btn--center-align-content ipc-btn--default-height ipc-btn--core-baseAlt ipc-btn--theme-baseAlt ipc-btn--button-radius ipc-btn--on-textPrimary ipc-text-button sc-acdbf0f3-2 brjkFP\" tabindex=\"0\" aria-label=\"Calificar 200% Wolf\" aria-disabled=\"false\"><span class=\"ipc-btn__text\"><div class=\"sc-acdbf0f3-3 fRlpFA\"><div class=\"sc-acdbf0f3-4 hJNcKz\"><svg xmlns=\"http://www.w3.org/2000/svg\" width=\"24\" height=\"24\" class=\"ipc-icon ipc-icon--star-border sc-37c828ab-4 etPTJD\" viewBox=\"0 0 24 24\" fill=\"currentColor\" role=\"presentation\"><path fill=\"none\" d=\"M0 0h24v24H0V0z\"></path><path d=\"M19.65 9.04l-4.84-.42-1.89-4.45c-.34-.81-1.5-.81-1.84 0L9.19 8.63l-4.83.41c-.88.07-1.24 1.17-.57 1.75l3.67 3.18-1.1 4.72c-.2.86.73 1.54 1.49 1.08l4.15-2.5 4.15 2.51c.76.46 1.69-.22 1.49-1.08l-1.1-4.73 3.67-3.18c.67-.58.32-1.68-.56-1.75zM12 15.4l-3.76 2.27 1-4.28-3.32-2.88 4.38-.38L12 6.1l1.71 4.04 4.38.38-3.32 2.88 1 4.28L12 15.4z\"></path></svg></div><div class=\"sc-37c828ab-0 ctZyPg\"><div data-testid=\"hero-rating-bar__user-rating__unrated\" class=\"sc-37c828ab-5 eNzhEU\">Calificar</div></div></div></span></button></div></div></div></div><div class=\"sc-9a2a0028-4 eeUUGv\"><div class=\"sc-9a2a0028-5 iQuLZA\"><div class=\"sc-9a2a0028-7 fdOinQ\"><div class=\"ipc-poster ipc-poster--baseAlt ipc-poster--media-radius ipc-poster--wl-true ipc-poster--dynamic-width ipc-sub-grid-item ipc-sub-grid-item--span-2\" role=\"group\" data-testid=\"hero-media__poster\"><div class=\"ipc-media ipc-media--poster-27x40 ipc-image-media-ratio--poster-27x40 ipc-media--media-radius ipc-media--baseAlt ipc-media--poster-l ipc-poster__poster-image ipc-media__img\" style=\"width:100%\"><img alt=\"200% Wolf (2024)\" class=\"ipc-image\" loading=\"eager\" src=\"https://m.media-amazon.com/images/M/MV5BZjQyYzkxNjEtZmY4Yy00ZTVkLWJiZWUtZWFkNTE5MDY5MjNmXkEyXkFqcGc@._V1_QL75_UX190_CR0,0,190,281_.jpg\" srcSet=\"https://m.media-amazon.com/images/M/MV5BZjQyYzkxNjEtZmY4Yy00ZTVkLWJiZWUtZWFkNTE5MDY5MjNmXkEyXkFqcGc@._V1_QL75_UX190_CR0,0,190,281_.jpg 190w, https://m.media-amazon.com/images/M/MV5BZjQyYzkxNjEtZmY4Yy00ZTVkLWJiZWUtZWFkNTE5MDY5MjNmXkEyXkFqcGc@._V1_QL75_UX285_CR0,0,285,422_.jpg 285w, https://m.media-amazon.com/images/M/MV5BZjQyYzkxNjEtZmY4Yy00ZTVkLWJiZWUtZWFkNTE5MDY5MjNmXkEyXkFqcGc@._V1_QL75_UX380_CR0,0,380,562_.jpg 380w\" sizes=\"50vw, (min-width: 480px) 34vw, (min-width: 600px) 26vw, (min-width: 1024px) 16vw, (min-width: 1280px) 16vw\" width=\"190\"/></div><div data-testid=\"poster-watchlist-ribbon-add\" class=\"ipc-watchlist-ribbon ipc-focusable ipc-watchlist-ribbon--l ipc-watchlist-ribbon--baseAlt ipc-watchlist-ribbon--loading ipc-watchlist-ribbon--onImage ipc-poster__watchlist-ribbon hero-media__watchlist\" aria-label=\"add to watchlist\" role=\"button\" tabindex=\"0\"><svg class=\"ipc-watchlist-ribbon__bg\" width=\"24px\" height=\"34px\" viewBox=\"0 0 24 34\" xmlns=\"http://www.w3.org/2000/svg\" role=\"presentation\"><polygon class=\"ipc-watchlist-ribbon__bg-ribbon\" fill=\"#000000\" points=\"24 0 0 0 0 32 12.2436611 26.2926049 24 31.7728343\"></polygon><polygon class=\"ipc-watchlist-ribbon__bg-hover\" points=\"24 0 0 0 0 32 12.2436611 26.2926049 24 31.7728343\"></polygon><polygon class=\"ipc-watchlist-ribbon__bg-shadow\" points=\"24 31.7728343 24 33.7728343 12.2436611 28.2926049 0 34 0 32 12.2436611 26.2926049\"></polygon></svg><div class=\"ipc-watchlist-ribbon__icon\" role=\"presentation\"><svg class=\"ipc-loader ipc-loader--circle ipc-watchlist-ribbon__loader\" data-testid=\"watchlist-ribbon-loader\" role=\"presentation\" width=\"48px\" height=\"48px\" viewBox=\"0 0 48 48\" version=\"1.1\" xmlns=\"http://www.w3.org/2000/svg\"><g class=\"ipc-loader__container\" fill=\"currentColor\"><circle class=\"ipc-loader__circle ipc-loader__circle--one\" cx=\"24\" cy=\"9\" r=\"4\"></circle><circle class=\"ipc-loader__circle ipc-loader__circle--two\" cx=\"35\" cy=\"14\" r=\"4\"></circle><circle class=\"ipc-loader__circle ipc-loader__circle--three\" cx=\"39\" cy=\"24\" r=\"4\"></circle><circle class=\"ipc-loader__circle ipc-loader__circle--four\" cx=\"35\" cy=\"34\" r=\"4\"></circle><circle class=\"ipc-loader__circle ipc-loader__circle--five\" cx=\"24\" cy=\"39\" r=\"4\"></circle><circle class=\"ipc-loader__circle ipc-loader__circle--six\" cx=\"13\" cy=\"34\" r=\"4\"></circle><circle class=\"ipc-loader__circle ipc-loader__circle--seven\" cx=\"9\" cy=\"24\" r=\"4\"></circle><circle class=\"ipc-loader__circle ipc-loader__circle--eight\" cx=\"13\" cy=\"14\" r=\"4\"></circle></g></svg></div></div><a class=\"ipc-lockup-overlay ipc-focusable\" href=\"/title/tt27722575/mediaviewer/rm2823056129/?ref_=tt_ov_i\" aria-label=\"Ver póster de &quot;200% Wolf&quot;\"><div class=\"ipc-lockup-overlay__screen\"></div></a></div></div><div class=\"sc-9a2a0028-8 fvJfIt\"><div class=\"sc-334af191-0 jEmWjm video-preference\"><button data-testid=\"videoPreview_preference_button\" class=\"ipc-icon-border-button sc-334af191-1 fTTpoD\" title=\"Preferencia de vista previa de video\" tabindex=\"0\" aria-disabled=\"false\"><svg xmlns=\"http://www.w3.org/2000/svg\" width=\"24\" height=\"24\" class=\"ipc-icon ipc-icon--more-vert\" viewBox=\"0 0 24 24\" fill=\"currentColor\" role=\"presentation\"><path fill=\"none\" d=\"M0 0h24v24H0V0z\"></path><path d=\"M12 8c1.1 0 2-.9 2-2s-.9-2-2-2-2 .9-2 2 .9 2 2 2zm0 2c-1.1 0-2 .9-2 2s.9 2 2 2 2-.9 2-2-.9-2-2-2zm0 6c-1.1 0-2 .9-2 2s.9 2 2 2 2-.9 2-2-.9-2-2-2z\"></path></svg></button></div><div class=\"ipc-slate ipc-slate--baseAlt ipc-slate--dynamic-width sc-248bafc1-0 Opjej undefined undefined ipc-sub-grid-item ipc-sub-grid-item--span-4\" role=\"group\" data-testid=\"hero-media__slate\"><div class=\"ipc-media ipc-media--slate-16x9 ipc-image-media-ratio--slate-16x9 ipc-media--media-radius ipc-media--baseAlt ipc-media--slate-m ipc-slate__slate-image ipc-media__img\" style=\"width:100%\"><img alt=\"Ver Official Trailer\" class=\"ipc-image\" loading=\"eager\" src=\"https://m.media-amazon.com/images/M/MV5BZWU3N2M4NTItOWRmMC00ZGRiLWFiODAtMzNkMDE3MmZiYzViXkEyXkFqcGdeQXRyYW5zY29kZS13b3JrZmxvdw@@._V1_QL75_UX500_CR0,0,500,281_.jpg\" srcSet=\"https://m.media-amazon.com/images/M/MV5BZWU3N2M4NTItOWRmMC00ZGRiLWFiODAtMzNkMDE3MmZiYzViXkEyXkFqcGdeQXRyYW5zY29kZS13b3JrZmxvdw@@._V1_QL75_UX500_CR0,0,500,281_.jpg 500w, https://m.media-amazon.com/images/M/MV5BZWU3N2M4NTItOWRmMC00ZGRiLWFiODAtMzNkMDE3MmZiYzViXkEyXkFqcGdeQXRyYW5zY29kZS13b3JrZmxvdw@@._V1_QL75_UX750_CR0,0,750,422_.jpg 750w, https://m.media-amazon.com/images/M/MV5BZWU3N2M4NTItOWRmMC00ZGRiLWFiODAtMzNkMDE3MmZiYzViXkEyXkFqcGdeQXRyYW5zY29kZS13b3JrZmxvdw@@._V1_QL75_UX1000_CR0,0,1000,563_.jpg 1000w\" sizes=\"100vw, (min-width: 480px) 68vw, (min-width: 600px) 52vw, (min-width: 1024px) 32vw, (min-width: 1280px) 32vw\" width=\"500\"/></div><div data-testid=\"hero-media__video-container\" class=\"sc-5c51ab82-0 kCccKo videoPlayerSlate__hide-player\"></div><div data-testid=\"video-player-slate-overlay\" class=\"ipc-lockup-overlay sc-d7fcdef3-0 hfsuSv videoplayer__slate-reactions\" aria-label=\"Ver Official Trailer\"><div class=\"ipc-lockup-overlay__screen\"></div><div class=\"ipc-lockup-overlay__gradient ipc-lockup-overlay__gradient--linear\"></div><div class=\"ipc-lockup-overlay__content videoplayer__slate-overlay-content\"><svg width=\"24\" height=\"24\" xmlns=\"http://www.w3.org/2000/svg\" class=\"ipc-icon ipc-icon--play-circle-outline-large-inline ipc-icon--inline ipc-lockup-overlay__icon ipc-lockup-overlay__icon--centered video-player__slate-play-icon\" viewBox=\"0 0 24 24\" fill=\"currentColor\" role=\"presentation\"><path d=\"M10.803 15.932l4.688-3.513a.498.498 0 0 0 0-.803l-4.688-3.514a.502.502 0 0 0-.803.402v7.026c0 .412.472.653.803.402z\"></path><path d=\"M12 24C5.373 24 0 18.627 0 12S5.373 0 12 0s12 5.373 12 12-5.373 12-12 12zm0-1c6.075 0 11-4.925 11-11S18.075 1 12 1 1 5.925 1 12s4.925 11 11 11z\"></path></svg><div class=\"sc-d7fcdef3-1 isiNWK\"><div class=\"sc-ae6d0deb-1 ekvRzb\"><span data-testid=\"video-player-slate-action-text\" class=\"sc-d7fcdef3-5 eCReCd\">Reproducir trailer</span><span data-testid=\"video-player-slate-runtime\" class=\"sc-d7fcdef3-4 kjcuO\">1<!-- -->:<!-- -->31</span><div data-testid=\"video-player-slate-text\" class=\"sc-d7fcdef3-6 iIbGak\"></div></div><div class=\"sc-87712cc1-1 gshRFU sc-ae6d0deb-0 lmTCLa\" data-testid=\"reaction-summary-loading-spacer\"></div></div></div></div><div class=\"ipc-lockup-overlay\" aria-label=\"Ver Official Trailer\"><div class=\"ipc-lockup-overlay__screen\"></div></div></div></div><div class=\"sc-9a2a0028-9 jJMYeT\"><a data-testid=\"hero__video-link\" class=\"ipc-btn ipc-btn--single-padding ipc-btn--center-align-content ipc-btn--default-height ipc-btn--core-baseAlt ipc-btn--theme-baseAlt ipc-btn--button-radius ipc-btn--on-onBase ipc-secondary-button sc-52ab98e0-3 eMqHJt\" tabindex=\"0\" aria-label=\"3 videos\" aria-disabled=\"false\" href=\"/title/tt27722575/videogallery/?ref_=tt_ov_v_sm\"><span class=\"ipc-btn__text\"><div class=\"sc-52ab98e0-2 lmdWhG\"><svg xmlns=\"http://www.w3.org/2000/svg\" width=\"24\" height=\"24\" class=\"ipc-icon ipc-icon--video-library ipc-icon--inline sc-52ab98e0-0 fPIpOl\" viewBox=\"0 0 24 24\" fill=\"currentColor\" role=\"presentation\"><path d=\"M3 6c-.55 0-1 .45-1 1v13c0 1.1.9 2 2 2h13c.55 0 1-.45 1-1s-.45-1-1-1H5c-.55 0-1-.45-1-1V7c0-.55-.45-1-1-1zm17-4H8c-1.1 0-2 .9-2 2v12c0 1.1.9 2 2 2h12c1.1 0 2-.9 2-2V4c0-1.1-.9-2-2-2zm-8 12.5v-9l5.47 4.1c.27.2.27.6 0 .8L12 14.5z\"></path></svg><div class=\"sc-52ab98e0-1 kXKZuC\">3 videos</div></div></span></a><a data-testid=\"hero__photo-link\" class=\"ipc-btn ipc-btn--single-padding ipc-btn--center-align-content ipc-btn--default-height ipc-btn--core-baseAlt ipc-btn--theme-baseAlt ipc-btn--button-radius ipc-btn--on-onBase ipc-secondary-button sc-52ab98e0-3 eMqHJt\" tabindex=\"0\" aria-label=\"49 fotos\" aria-disabled=\"false\" href=\"/title/tt27722575/mediaviewer/rm846161921/?ref_=tt_ov_m_sm\"><span class=\"ipc-btn__text\"><div class=\"sc-52ab98e0-2 lmdWhG\"><svg xmlns=\"http://www.w3.org/2000/svg\" width=\"24\" height=\"24\" class=\"ipc-icon ipc-icon--collections ipc-icon--inline sc-52ab98e0-0 fPIpOl\" viewBox=\"0 0 24 24\" fill=\"currentColor\" role=\"presentation\"><path fill=\"none\" d=\"M0 0h24v24H0V0z\"></path><path d=\"M22 16V4c0-1.1-.9-2-2-2H8c-1.1 0-2 .9-2 2v12c0 1.1.9 2 2 2h12c1.1 0 2-.9 2-2zm-10.6-3.47l1.63 2.18 2.58-3.22a.5.5 0 0 1 .78 0l2.96 3.7c.26.33.03.81-.39.81H9a.5.5 0 0 1-.4-.8l2-2.67c.2-.26.6-.26.8 0zM2 7v13c0 1.1.9 2 2 2h13c.55 0 1-.45 1-1s-.45-1-1-1H5c-.55 0-1-.45-1-1V7c0-.55-.45-1-1-1s-1 .45-1 1z\"></path></svg><div class=\"sc-52ab98e0-1 kXKZuC\">49 fotos</div></div></span></a></div></div><div class=\"sc-9a2a0028-6 zHrZh\"><div class=\"sc-9a2a0028-10 iUfJXd\"><section class=\"sc-70a366cc-4 eMYfBo\"><div class=\"ipc-chip-list--baseAlt ipc-chip-list ipc-chip-list--nowrap sc-42125d72-4 iPHzA-d\" data-testid=\"interests\"><div style=\"background-color:rgb(18,18,18)\" class=\"ipc-chip-list__arrow ipc-chip-list__arrow--left\" role=\"presentation\"><svg width=\"24\" height=\"24\" xmlns=\"http://www.w3.org/2000/svg\" class=\"ipc-icon ipc-icon--chevron-left-inline ipc-icon--inline\" viewBox=\"0 0 24 24\" fill=\"currentColor\" role=\"presentation\"><path d=\"M18.378 23.369c.398-.402.622-.947.622-1.516 0-.568-.224-1.113-.622-1.515l-8.249-8.34 8.25-8.34a2.16 2.16 0 0 0 .548-2.07A2.132 2.132 0 0 0 17.428.073a2.104 2.104 0 0 0-2.048.555l-9.758 9.866A2.153 2.153 0 0 0 5 12.009c0 .568.224 1.114.622 1.515l9.758 9.866c.808.817 2.17.817 2.998-.021z\"></path></svg></div><div class=\"ipc-chip-list__scroller\"><a class=\"ipc-chip ipc-chip--on-baseAlt\" tabindex=\"0\" aria-disabled=\"false\" href=\"/interest/in0000001/?ref_=tt_ov_in_1\"><span class=\"ipc-chip__text\">Action</span></a><a class=\"ipc-chip ipc-chip--on-baseAlt\" tabindex=\"0\" aria-disabled=\"false\" href=\"/interest/in0000012/?ref_=tt_ov_in_2\"><span class=\"ipc-chip__text\">Adventure</span></a><a class=\"ipc-chip ipc-chip--on-baseAlt\" tabindex=\"0\" aria-disabled=\"false\" href=\"/interest/in0000026/?ref_=tt_ov_in_3\"><span class=\"ipc-chip__text\">Animation</span></a><a class=\"ipc-chip ipc-chip--on-baseAlt\" tabindex=\"0\" aria-disabled=\"false\" href=\"/interest/in0000034/?ref_=tt_ov_in_4\"><span class=\"ipc-chip__text\">Comedy</span></a><a class=\"ipc-chip ipc-chip--on-baseAlt\" tabindex=\"0\" aria-disabled=\"false\" href=\"/interest/in0000093/?ref_=tt_ov_in_5\"><span class=\"ipc-chip__text\">Family</span></a><a class=\"ipc-chip ipc-chip--on-baseAlt\" tabindex=\"0\" aria-disabled=\"false\" href=\"/interest/in0000098/?ref_=tt_ov_in_6\"><span class=\"ipc-chip__text\">Fantasy</span></a></div><div style=\"background-color:rgb(18,18,18)\" class=\"ipc-chip-list__arrow ipc-chip-list__arrow--right\" role=\"presentation\"><svg width=\"24\" height=\"24\" xmlns=\"http://www.w3.org/2000/svg\" class=\"ipc-icon ipc-icon--chevron-right-inline ipc-icon--inline\" viewBox=\"0 0 24 24\" fill=\"currentColor\" role=\"presentation\"><path d=\"M5.622.631A2.153 2.153 0 0 0 5 2.147c0 .568.224 1.113.622 1.515l8.249 8.34-8.25 8.34a2.16 2.16 0 0 0-.548 2.07c.196.74.768 1.317 1.499 1.515a2.104 2.104 0 0 0 2.048-.555l9.758-9.866a2.153 2.153 0 0 0 0-3.03L8.62.61C7.812-.207 6.45-.207 5.622.63z\"></path></svg></div></div><p data-testid=\"plot\" class=\"sc-42125d72-3 NPkNd\"><span role=\"presentation\" data-testid=\"plot-xs_to_m\" class=\"sc-42125d72-0 gKbnVu\">Un heroico perro poodle que lucha por mantener el respeto de su manada de hombres lobo. Cuando un deseo caprichoso lo transforma en hombre lobo y despoja a un hada traviesa de la tierra.</span><span role=\"presentation\" data-testid=\"plot-l\" class=\"sc-42125d72-1 igbBrx\">Un heroico perro poodle que lucha por mantener el respeto de su manada de hombres lobo. Cuando un deseo caprichoso lo transforma en hombre lobo y despoja a un hada traviesa de la tierra.</\n",
      "2024\n",
      "PG\n",
      "1h 38min\n",
      "5.5\n",
      "781\n",
      "Un heroico perro poodle que lucha por mantener el respeto de su manada de hombres lobo. Cuando un deseo caprichoso lo transforma en hombre lobo y despoja a un hada traviesa de la tierra.\n"
     ]
    },
    {
     "ename": "IndexError",
     "evalue": "no such group",
     "output_type": "error",
     "traceback": [
      "\u001b[1;31m---------------------------------------------------------------------------\u001b[0m",
      "\u001b[1;31mIndexError\u001b[0m                                Traceback (most recent call last)",
      "Cell \u001b[1;32mIn[12], line 2\u001b[0m\n\u001b[0;32m      1\u001b[0m \u001b[38;5;28;01mfor\u001b[39;00m i \u001b[38;5;129;01min\u001b[39;00m \u001b[38;5;28mrange\u001b[39m(\u001b[38;5;241m10\u001b[39m):\n\u001b[1;32m----> 2\u001b[0m     \u001b[38;5;28mprint\u001b[39m(\u001b[43ms\u001b[49m\u001b[38;5;241;43m.\u001b[39;49m\u001b[43mgroup\u001b[49m\u001b[43m(\u001b[49m\u001b[43mi\u001b[49m\u001b[43m)\u001b[49m)\n",
      "\u001b[1;31mIndexError\u001b[0m: no such group"
     ]
    }
   ],
   "source": [
    "for i in range(10):\n",
    "    print(s.group(i))"
   ]
  },
  {
   "cell_type": "code",
   "execution_count": null,
   "metadata": {},
   "outputs": [],
   "source": []
  }
 ],
 "metadata": {
  "kernelspec": {
   "display_name": "Python 3",
   "language": "python",
   "name": "python3"
  },
  "language_info": {
   "codemirror_mode": {
    "name": "ipython",
    "version": 3
   },
   "file_extension": ".py",
   "mimetype": "text/x-python",
   "name": "python",
   "nbconvert_exporter": "python",
   "pygments_lexer": "ipython3",
   "version": "3.11.9"
  }
 },
 "nbformat": 4,
 "nbformat_minor": 2
}
