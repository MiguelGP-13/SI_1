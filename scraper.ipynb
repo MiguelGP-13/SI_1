{
 "cells": [
  {
   "cell_type": "markdown",
   "metadata": {},
   "source": [
    "## Sacar información de la película"
   ]
  },
  {
   "cell_type": "code",
   "execution_count": 1,
   "metadata": {},
   "outputs": [],
   "source": [
    "import urllib.request\n",
    "import re"
   ]
  },
  {
   "cell_type": "code",
   "execution_count": 2,
   "metadata": {},
   "outputs": [
    {
     "name": "stdout",
     "output_type": "stream",
     "text": [
      "200\n"
     ]
    }
   ],
   "source": [
    "CLASS_DURACION = 'ipc-inline-list ipc-inline-list--show-dividers sc-ec65ba05-2 joVhBE baseAlt'  # Tiene dentro 3 li con año, clasificación y duración\n",
    "CLASS_RATING = 'sc-d541859f-1 imUuxf'  # Dentro de un span\n",
    "CLASS_NUMEROVOTOS = 'sc-d541859f-3 dwhNqC' # Dentro de un div\n",
    "CLASS_SINOPSIS = 'sc-42125d72-1 igbBrx'\n",
    "# Coger los 3 primeros (direccion, guionistas, elenco)\n",
    "CLASS_GUION = 'ipc-metadata-list-item__label ipc-metadata-list-item__label--link'\n",
    "CLASS_DIRECTOR = 'ipc-metadata-list-item__label ipc-metadata-list-item__label--btn' # Dentro de un span\n",
    "CLASS_NOMBRE = 'ipc-metadata-list-item__content-container'  # Dentro de un div\n",
    "# CLASS_GUION = 'ipc-metadata-list-item__label ipc-metadata-list-item__label--link' # Dentro de un div\n",
    "\n",
    "\n",
    "\n",
    "# Definir la URL\n",
    "url = 'https://www.imdb.com/es-es/title/tt0062622/'\n",
    "\n",
    "# Definir los headers\n",
    "headers = {\n",
    "    'User-Agent': 'Mozilla/5.0 (Windows NT 10.0; Win64; x64) AppleWebKit/537.36 (KHTML, like Gecko) Chrome/91.0.4472.124 Safari/537.36'\n",
    "}\n",
    "\n",
    "# Crear una petición con los headers\n",
    "req = urllib.request.Request(url, headers=headers)\n",
    "\n",
    "# Descargar el HTML\n",
    "with urllib.request.urlopen(req) as response:\n",
    "    html = response.read().decode('utf-8')\n",
    "\n",
    "# Imprimir el HTML descargado\n",
    "print(response.status)"
   ]
  },
  {
   "cell_type": "code",
   "execution_count": 3,
   "metadata": {},
   "outputs": [
    {
     "name": "stdout",
     "output_type": "stream",
     "text": [
      "('1968', 'A', '2h 29min', '8,3', '746\\xa0mil', 'Tras su descubrimiento en África hace varias generaciones, los misteriosos monolitos conducen a la humanidad a un impresionante viaje a Júpiter, con la ayuda del superordenador HAL 9000.')\n"
     ]
    }
   ],
   "source": [
    "# Sacamos (Año), (Calificación), (Duración)\n",
    "extractor = rf'.*\\<ul class=\"{CLASS_DURACION}\"[^\\>]*?\\>\\<li[^\\>]*?\\>\\<a[^\\>]*?\\>([\\d]+?)\\<.+?\\<li[^\\>]*?\\>\\<a[^\\>]*?\\>([^<]+?)\\<.+?\\<li[^\\>]*?\\>([^\\<]+?)\\<.+' \n",
    "# Sacamos (puntuación)\n",
    "extractor += rf'\\<span class=\"{CLASS_RATING}\"\\>([\\d\\.\\,]+)\\<.+'\n",
    "# Sacamos (nº de votos)\n",
    "extractor += rf'\\<div class=\"{CLASS_NUMEROVOTOS}\"\\>([^\\<]+?)\\<.+'\n",
    "# Sacamos (sinopsis)\n",
    "extractor += rf'\\<span [^\\>]*?class=\"{CLASS_SINOPSIS}\"\\>([^<]+?)\\<'\n",
    "resultados =  re.search(extractor, html, re.DOTALL)\n",
    "# anio, calificacion, duracion, puntuacion, num_votos, sinopsis = resultados.groups()\n",
    "# print(anio, calificacion, duracion, puntuacion, num_votos, sinopsis)\n",
    "print(resultados.groups())"
   ]
  },
  {
   "cell_type": "code",
   "execution_count": null,
   "metadata": {},
   "outputs": [],
   "source": [
    "# Sacamos (direccion), (guionistas), (elenco) con un findall\n",
    "director = rf'\\<span class=\"{CLASS_DIRECTOR}\".+?\\>([^\\<]+?)\\<\\/span\\>\\<div class=\"{CLASS_NOMBRE}\"\\>\\<ul.+?\\>(.+?)\\<\\/ul\\>'\n",
    "informacion = rf'\\<a class=\"{CLASS_GUION}\"[^\\>]+?\\>([^\\<]+?)\\<\\/a\\>\\<div class=\"{CLASS_NOMBRE}\"\\>\\<ul.+?\\>(.+?)\\<\\/ul\\>'\n",
    "# Limpiamos los resultados sacando los nombres y quitando las etiquetas HTML\n",
    "obtener_nombres = re.compile(r'([^\\>]+)\\<\\/a\\>')"
   ]
  },
  {
   "cell_type": "code",
   "execution_count": 7,
   "metadata": {},
   "outputs": [
    {
     "name": "stdout",
     "output_type": "stream",
     "text": [
      "('Dirección', '<li role=\"presentation\" class=\"ipc-inline-list__item\"><a class=\"ipc-metadata-list-item__list-content-item ipc-metadata-list-item__list-content-item--link\" tabindex=\"0\" aria-disabled=\"false\" href=\"/es-es/name/nm0000040/?ref_=tt_ov_dr_1\">Stanley Kubrick</a></li>')\n",
      "0\n",
      "('Guión', '<li role=\"presentation\" class=\"ipc-inline-list__item\"><a class=\"ipc-metadata-list-item__list-content-item ipc-metadata-list-item__list-content-item--link\" tabindex=\"0\" aria-disabled=\"false\" href=\"/es-es/name/nm0000040/?ref_=tt_ov_wr_1\">Stanley Kubrick</a></li><li role=\"presentation\" class=\"ipc-inline-list__item\"><a class=\"ipc-metadata-list-item__list-content-item ipc-metadata-list-item__list-content-item--link\" tabindex=\"0\" aria-disabled=\"false\" href=\"/es-es/name/nm0002009/?ref_=tt_ov_wr_2\">Arthur C. Clarke</a></li>')\n",
      "1\n",
      "('Reparto principal', '<li role=\"presentation\" class=\"ipc-inline-list__item\"><a class=\"ipc-metadata-list-item__list-content-item ipc-metadata-list-item__list-content-item--link\" tabindex=\"0\" aria-disabled=\"false\" href=\"/es-es/name/nm0001158/?ref_=tt_ov_st_1\">Keir Dullea</a></li><li role=\"presentation\" class=\"ipc-inline-list__item\"><a class=\"ipc-metadata-list-item__list-content-item ipc-metadata-list-item__list-content-item--link\" tabindex=\"0\" aria-disabled=\"false\" href=\"/es-es/name/nm0516972/?ref_=tt_ov_st_2\">Gary Lockwood</a></li><li role=\"presentation\" class=\"ipc-inline-list__item\"><a class=\"ipc-metadata-list-item__list-content-item ipc-metadata-list-item__list-content-item--link\" tabindex=\"0\" aria-disabled=\"false\" href=\"/es-es/name/nm0843213/?ref_=tt_ov_st_3\">William Sylvester</a></li>')\n",
      "2\n",
      "Resultado 0: ('Guión', ['Stanley Kubrick', 'Arthur C. Clarke'])\n",
      "Resultado 1: ('Reparto principal', ['Keir Dullea', 'Gary Lockwood', 'William Sylvester'])\n"
     ]
    }
   ],
   "source": [
    "print(re.search(director, html, re.DOTALL).groups())\n",
    "# Encontrar todas las coincidencias\n",
    "coincidencias = re.finditer(informacion, html)\n",
    "\n",
    "# Crear una lista para almacenar los primeros 4 resultados\n",
    "resultados = []\n",
    "\n",
    "# Iterar sobre las coincidencias y agregar a la lista hasta encontrar 4\n",
    "for i, match in enumerate(coincidencias):\n",
    "    print(i)\n",
    "    if i >= 2:\n",
    "        break\n",
    "    resultados.append((match.group(1), obtener_nombres.findall(match.group(2))))\n",
    "    print(match.groups())\n",
    "\n",
    "for i, match in enumerate(resultados):\n",
    "    print(f\"Resultado {i}: {match}\")"
   ]
  },
  {
   "cell_type": "code",
   "execution_count": null,
   "metadata": {},
   "outputs": [],
   "source": []
  }
 ],
 "metadata": {
  "kernelspec": {
   "display_name": "Python 3",
   "language": "python",
   "name": "python3"
  },
  "language_info": {
   "codemirror_mode": {
    "name": "ipython",
    "version": 3
   },
   "file_extension": ".py",
   "mimetype": "text/x-python",
   "name": "python",
   "nbconvert_exporter": "python",
   "pygments_lexer": "ipython3",
   "version": "3.11.1"
  }
 },
 "nbformat": 4,
 "nbformat_minor": 2
}
