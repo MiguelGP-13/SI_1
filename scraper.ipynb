{
 "cells": [
  {
   "cell_type": "markdown",
   "metadata": {},
   "source": [
    "## Sacar información de la película"
   ]
  },
  {
   "cell_type": "code",
   "execution_count": 1,
   "metadata": {},
   "outputs": [],
   "source": [
    "import urllib.request\n",
    "import re\n",
    "\n",
    "class_datos = 'ipc-metadata-list-item__content-container' # Dentro de un div\n",
    "class_rating = 'sc-d541859f-1 imUuxf' # Dentro de un span\n",
    "# Coger los 3 primeros (direccion, guionistas, elenco)\n",
    "class_sinopsis = 'sc-42125d72-1 igbBrx'\n",
    "class_numeroVotos = 'sc-d541859f-3 dwhNqC'\n",
    "class_duracion = 'ipc-inline-list ipc-inline-list--show-dividers sc-ec65ba05-2 joVhBE baseAlt' # Tiene dentro 3 li con año, clasificación y duración"
   ]
  },
  {
   "cell_type": "code",
   "execution_count": 2,
   "metadata": {},
   "outputs": [
    {
     "name": "stdout",
     "output_type": "stream",
     "text": [
      "200\n"
     ]
    }
   ],
   "source": [
    "CLASS_DURACION = 'ipc-inline-list ipc-inline-list--show-dividers sc-ec65ba05-2 joVhBE baseAlt'  # Tiene dentro 3 li con año, clasificación y duración\n",
    "CLASS_RATING = 'sc-d541859f-1 imUuxf'  # Dentro de un span\n",
    "CLASS_NUMEROVOTOS = 'sc-d541859f-3 dwhNqC' # Dentro de un div\n",
    "CLASS_SINOPSIS = 'sc-42125d72-1 igbBrx'\n",
    "CLASS_DATOS = 'ipc-metadata-list-item__content-container'  # Dentro de un div\n",
    "# Coger los 3 primeros (direccion, guionistas, elenco)\n",
    "\n",
    "\n",
    "# Definir la URL\n",
    "url = 'https://www.imdb.com/es/title/tt27722575/?ref_=nv_sr_srsg_0_tt_8_nm_0_in_0_q_200'\n",
    "\n",
    "# Definir los headers\n",
    "headers = {\n",
    "    'User-Agent': 'Mozilla/5.0 (Windows NT 10.0; Win64; x64) AppleWebKit/537.36 (KHTML, like Gecko) Chrome/91.0.4472.124 Safari/537.36'\n",
    "}\n",
    "\n",
    "# Crear una petición con los headers\n",
    "req = urllib.request.Request(url, headers=headers)\n",
    "\n",
    "# Descargar el HTML\n",
    "with urllib.request.urlopen(req) as response:\n",
    "    html = response.read().decode('utf-8')\n",
    "\n",
    "# Imprimir el HTML descargado\n",
    "print(response.status)\n",
    "\n",
    "\n"
   ]
  },
  {
   "cell_type": "code",
   "execution_count": null,
   "metadata": {},
   "outputs": [],
   "source": [
    "# Sacamos (Año), (Calificación), (Duración)\n",
    "extractor = rf'.*?\\<ul class=\"{CLASS_DURACION}\".+?\\>\\<li.+?\\>|<a.+?\\>([\\d]+?)\\<.+?\\<li.+?\\>|<a.+?\\>([^<]+?)\\<.+?\\<li.+?\\>|<a.+?\\>([^<]+?)\\<.+?' \n",
    "# Sacamos (puntuación)\n",
    "extractor += rf'\\<span class=\"{CLASS_RATING}\"\\>([\\d]+?)\\<.+?'\n",
    "# Sacamos (nº de votos)\n",
    "extractor += rf'\\<div class=\"{CLASS_NUMEROVOTOS}\"\\>([\\d]+?)\\<.+?'\n",
    "# Sacamos (sinopsis)\n",
    "extractor += rf'\\<span .+?class=\"{CLASS_SINOPSIS}\"\\>([^<]+?)\\<.+?'\n",
    "\n",
    "anio, calificacion, duracion, puntuacion, num_votos, sinopsis = re.findall(extractor, html)\n",
    "print(anio, calificacion, duracion, puntuacion, num_votos, sinopsis)"
   ]
  },
  {
   "cell_type": "code",
   "execution_count": null,
   "metadata": {},
   "outputs": [],
   "source": [
    "# Sacamos (direccion), (guionistas), (elenco) con un findall\n",
    "informacion = rf'\\<div class=\"{CLASS_DATOS}\"\\>\\<ul.+?\\>\\<li.+?\\>\\<a.+?\\>\"([^<]+?)\"\\<.+?'\n",
    "\n",
    "datos = re.findall(informacion, html)"
   ]
  },
  {
   "cell_type": "code",
   "execution_count": null,
   "metadata": {},
   "outputs": [],
   "source": []
  }
 ],
 "metadata": {
  "kernelspec": {
   "display_name": "Python 3",
   "language": "python",
   "name": "python3"
  },
  "language_info": {
   "codemirror_mode": {
    "name": "ipython",
    "version": 3
   },
   "file_extension": ".py",
   "mimetype": "text/x-python",
   "name": "python",
   "nbconvert_exporter": "python",
   "pygments_lexer": "ipython3",
   "version": "3.11.9"
  }
 },
 "nbformat": 4,
 "nbformat_minor": 2
}
